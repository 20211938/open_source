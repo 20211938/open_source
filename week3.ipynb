{
 "cells": [
  {
   "cell_type": "code",
   "execution_count": 2,
   "metadata": {},
   "outputs": [
    {
     "name": "stdout",
     "output_type": "stream",
     "text": [
      "[36, 42, 38, 33, 64]\n"
     ]
    }
   ],
   "source": [
    "symbols = \"$*&!@\"\n",
    "codes = []\n",
    "for symbol in symbols :\n",
    "    codes.append(ord(symbol))\n",
    "\n",
    "print(codes)"
   ]
  },
  {
   "cell_type": "code",
   "execution_count": 3,
   "metadata": {},
   "outputs": [
    {
     "name": "stdout",
     "output_type": "stream",
     "text": [
      "[36, 42, 38, 33, 64]\n"
     ]
    }
   ],
   "source": [
    "symbols = \"$*&!@\"\n",
    "\n",
    "codes = [ord(symbol) for symbol in symbols]\n",
    "\n",
    "print(codes)"
   ]
  },
  {
   "cell_type": "code",
   "execution_count": 4,
   "metadata": {},
   "outputs": [
    {
     "name": "stdout",
     "output_type": "stream",
     "text": [
      "\"!~$$*&!@\n",
      "[34, 33, 126, 36, 36, 42, 38, 33, 64]\n"
     ]
    }
   ],
   "source": [
    "x = '\"!~$$*&!@'\n",
    "dummy = [ord(x) for x in x]\n",
    "\n",
    "print(x)\n",
    "print(dummy)"
   ]
  },
  {
   "cell_type": "code",
   "execution_count": 5,
   "metadata": {},
   "outputs": [
    {
     "name": "stdout",
     "output_type": "stream",
     "text": [
      "[34, 33, 126, 36, 36, 42, 38, 33, 64]\n"
     ]
    }
   ],
   "source": [
    "symbols = '\"!~$$*&!@'\n",
    "beyond_ascii = [ord(s) for s in symbols if ord(s) > 32]\n",
    "\n",
    "print(beyond_ascii)"
   ]
  },
  {
   "cell_type": "code",
   "execution_count": 7,
   "metadata": {},
   "outputs": [
    {
     "name": "stdout",
     "output_type": "stream",
     "text": [
      "[126] \n",
      "\n",
      "Map function:\n",
      ">>> <map object at 0x0000021C98D4BB50>\n",
      "List after map:\n",
      ">>> [34, 33, 126, 36, 36, 42, 38, 33, 64]\n"
     ]
    }
   ],
   "source": [
    "symbols = '\"!~$$*&!@'\n",
    "beyond_ascii = list(filter(lambda c: c>64, map(ord, symbols)))\n",
    "\n",
    "print(beyond_ascii, '\\n')\n",
    "\n",
    "print(f\"Map function:\\n>>> {map(ord, symbols)}\")\n",
    "print(f\"List after map:\\n>>> {list(map(ord, symbols))}\")"
   ]
  },
  {
   "cell_type": "code",
   "execution_count": 1,
   "metadata": {},
   "outputs": [
    {
     "name": "stdout",
     "output_type": "stream",
     "text": [
      "[('black', 'S'), ('black', 'M'), ('black', 'L'), ('white', 'S'), ('white', 'M'), ('white', 'L')]\n",
      "('black', 'S')\n",
      "('black', 'M')\n",
      "('black', 'L')\n",
      "('white', 'S')\n",
      "('white', 'M')\n",
      "('white', 'L')\n"
     ]
    }
   ],
   "source": [
    "colors = ['black', 'white']\n",
    "sizes = ['S', 'M', 'L']\n",
    "tshirts = [(color, size) for color in colors for size in sizes]\n",
    "\n",
    "print(tshirts)\n",
    "\n",
    "for color in colors:\n",
    "    for size in sizes :\n",
    "        print((color, size))"
   ]
  },
  {
   "cell_type": "code",
   "execution_count": 2,
   "metadata": {},
   "outputs": [
    {
     "name": "stdout",
     "output_type": "stream",
     "text": [
      "(33, 35, 94, 38, 38, 35)\n"
     ]
    }
   ],
   "source": [
    "symbols = \"!#^&&#\"\n",
    "ord_s = tuple(ord(s) for s in symbols if ord(s))\n",
    "\n",
    "print(ord_s)"
   ]
  },
  {
   "cell_type": "code",
   "execution_count": null,
   "metadata": {},
   "outputs": [],
   "source": []
  }
 ],
 "metadata": {
  "kernelspec": {
   "display_name": "Python 3",
   "language": "python",
   "name": "python3"
  },
  "language_info": {
   "codemirror_mode": {
    "name": "ipython",
    "version": 3
   },
   "file_extension": ".py",
   "mimetype": "text/x-python",
   "name": "python",
   "nbconvert_exporter": "python",
   "pygments_lexer": "ipython3",
   "version": "3.12.4"
  }
 },
 "nbformat": 4,
 "nbformat_minor": 2
}
